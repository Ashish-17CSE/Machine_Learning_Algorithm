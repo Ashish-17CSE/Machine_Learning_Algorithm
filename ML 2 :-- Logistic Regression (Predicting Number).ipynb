{
  "nbformat": 4,
  "nbformat_minor": 0,
  "metadata": {
    "colab": {
      "name": "Logistic Regression (Predicting Number)",
      "provenance": [],
      "toc_visible": true,
      "authorship_tag": "ABX9TyPDyxJbnxPXMQfrV5d5Nh+K",
      "include_colab_link": true
    },
    "kernelspec": {
      "name": "python3",
      "display_name": "Python 3"
    },
    "language_info": {
      "name": "python"
    }
  },
  "cells": [
    {
      "cell_type": "markdown",
      "metadata": {
        "id": "view-in-github",
        "colab_type": "text"
      },
      "source": [
        "<a href=\"https://colab.research.google.com/github/Ashish-17CSE/Machine_Learning_Algorithm/blob/main/ML%202%20%3A--%20Logistic%20Regression%20(Predicting%20Number).ipynb\" target=\"_parent\"><img src=\"https://colab.research.google.com/assets/colab-badge.svg\" alt=\"Open In Colab\"/></a>"
      ]
    },
    {
      "cell_type": "markdown",
      "metadata": {
        "id": "qgRt06ldlEA0"
      },
      "source": [
        "| **Supervised Learing** |---> | Classification |---> Logistic Regression"
      ]
    },
    {
      "cell_type": "markdown",
      "metadata": {
        "id": "nQJHfxfvjOhM"
      },
      "source": [
        "**Logistic Regression :-** A dataset with one or more independent variables is used to determine binary output of the dependent variable.\n",
        "\n",
        "\n",
        "\n",
        "1.   Used to solve classification problems\n",
        "2.   It helps calulate the possibility of a particular event taking place\n",
        "3.   An S-curve (S = Sigmoid)\n",
        "\n"
      ]
    },
    {
      "cell_type": "code",
      "metadata": {
        "id": "buZ7WLvKixkQ"
      },
      "source": [
        "# Importing Libraries and their associated methods\n",
        "%matplotlib inline\n",
        "\n",
        "from sklearn.datasets import load_digits\n",
        "from sklearn.model_selection import train_test_split\n",
        "import numpy as np\n",
        "\n",
        "import matplotlib.pyplot as plt \n",
        "import seaborn as sns\n",
        "from sklearn import metrics\n",
        "\n",
        "digits = load_digits()"
      ],
      "execution_count": 2,
      "outputs": []
    },
    {
      "cell_type": "code",
      "metadata": {
        "colab": {
          "base_uri": "https://localhost:8080/"
        },
        "id": "ARTMkohKjNVD",
        "outputId": "2871da01-1905-4ad6-c7e7-22607b58063e"
      },
      "source": [
        "# Datarminig the total number of images and labels \n",
        "print (\"Image Data Shape\", digits.data.shape)\n",
        "print (\"Label Data shape\", digits.target.shape)"
      ],
      "execution_count": 3,
      "outputs": [
        {
          "output_type": "stream",
          "name": "stdout",
          "text": [
            "Image Data Shape (1797, 64)\n",
            "Label Data shape (1797,)\n"
          ]
        }
      ]
    },
    {
      "cell_type": "code",
      "metadata": {
        "colab": {
          "base_uri": "https://localhost:8080/",
          "height": 236
        },
        "id": "MiCTGTvdp_E5",
        "outputId": "1ff5797a-8710-4fe3-9121-8d45f21fdef8"
      },
      "source": [
        "# Displaying some of the images and labels\n",
        "\n",
        "plt.figure(figsize=(20,4))\n",
        "for index, (image, label) in enumerate (zip(digits .data[0:5], digits.target[0:5])):\n",
        "  plt.subplot(1, 5, index+1)\n",
        "  plt.imshow (np.reshape (image, (8,8)), cmap=plt.cm.gray)\n",
        "  plt.title ('Training : %i\\n' % label, fontsize = 20)"
      ],
      "execution_count": 4,
      "outputs": [
        {
          "output_type": "display_data",
          "data": {
            "image/png": "[encoded data removed]",
            "text/plain": [
              "<Figure size 1440x288 with 5 Axes>"
            ]
          },
          "metadata": {
            "needs_background": "light"
          }
        }
      ]
    },
    {
      "cell_type": "code",
      "metadata": {
        "id": "A4_raGsSrrpn"
      },
      "source": [
        "# Dividing dataset into Training and Teat set\n",
        "\n",
        "x_train, x_test, y_train, y_test = train_test_split(digits.data, digits.target, test_size = 0.23, random_state=2)"
      ],
      "execution_count": 5,
      "outputs": []
    },
    {
      "cell_type": "code",
      "metadata": {
        "colab": {
          "base_uri": "https://localhost:8080/"
        },
        "id": "b1TUuFQsseV7",
        "outputId": "97eaeb56-a000-454a-f05b-7ee14b0d2bdb"
      },
      "source": [
        "print (x_train.shape)"
      ],
      "execution_count": 6,
      "outputs": [
        {
          "output_type": "stream",
          "name": "stdout",
          "text": [
            "(1383, 64)\n"
          ]
        }
      ]
    },
    {
      "cell_type": "code",
      "metadata": {
        "colab": {
          "base_uri": "https://localhost:8080/"
        },
        "id": "J3v9zT5dskHg",
        "outputId": "44e8cbb0-4e06-4410-c565-2b948d979ca3"
      },
      "source": [
        "print (y_train.shape)"
      ],
      "execution_count": 7,
      "outputs": [
        {
          "output_type": "stream",
          "name": "stdout",
          "text": [
            "(1383,)\n"
          ]
        }
      ]
    },
    {
      "cell_type": "code",
      "metadata": {
        "colab": {
          "base_uri": "https://localhost:8080/"
        },
        "id": "bXzyFhvusp8B",
        "outputId": "71fee281-fbdc-4c67-f06d-f77c2e40a7c5"
      },
      "source": [
        "print(x_test.shape)"
      ],
      "execution_count": 8,
      "outputs": [
        {
          "output_type": "stream",
          "name": "stdout",
          "text": [
            "(414, 64)\n"
          ]
        }
      ]
    },
    {
      "cell_type": "code",
      "metadata": {
        "colab": {
          "base_uri": "https://localhost:8080/"
        },
        "id": "rS6Iyv_zsw0i",
        "outputId": "bc727f08-c6d4-4c49-a166-55f13d6302d3"
      },
      "source": [
        "print(y_test.shape)"
      ],
      "execution_count": 9,
      "outputs": [
        {
          "output_type": "stream",
          "name": "stdout",
          "text": [
            "(414,)\n"
          ]
        }
      ]
    },
    {
      "cell_type": "code",
      "metadata": {
        "id": "VTa8HdaMs6kP"
      },
      "source": [
        "# Import the Logistic Regression model\n",
        "from sklearn.linear_model import LogisticRegression"
      ],
      "execution_count": 10,
      "outputs": []
    },
    {
      "cell_type": "code",
      "metadata": {
        "colab": {
          "base_uri": "https://localhost:8080/"
        },
        "id": "qiyl_192s9Xk",
        "outputId": "42fe0176-d853-4864-b398-2ac98adc5335"
      },
      "source": [
        "# Making an instance of the model and training it\n",
        "logisticRegr = LogisticRegression()\n",
        "logisticRegr.fit(x_train, y_train)\n"
      ],
      "execution_count": 11,
      "outputs": [
        {
          "output_type": "stream",
          "name": "stderr",
          "text": [
            "/usr/local/lib/python3.7/dist-packages/sklearn/linear_model/_logistic.py:818: ConvergenceWarning: lbfgs failed to converge (status=1):\n",
            "STOP: TOTAL NO. of ITERATIONS REACHED LIMIT.\n",
            "\n",
            "Increase the number of iterations (max_iter) or scale the data as shown in:\n",
            "    https://scikit-learn.org/stable/modules/preprocessing.html\n",
            "Please also refer to the documentation for alternative solver options:\n",
            "    https://scikit-learn.org/stable/modules/linear_model.html#logistic-regression\n",
            "  extra_warning_msg=_LOGISTIC_SOLVER_CONVERGENCE_MSG,\n"
          ]
        },
        {
          "output_type": "execute_result",
          "data": {
            "text/plain": [
              "LogisticRegression()"
            ]
          },
          "metadata": {},
          "execution_count": 11
        }
      ]
    },
    {
      "cell_type": "code",
      "metadata": {
        "colab": {
          "base_uri": "https://localhost:8080/"
        },
        "id": "M_wyw8BXveTM",
        "outputId": "a74fcb42-e243-437f-9e75-9af7d309c741"
      },
      "source": [
        "# predicting the output of the first element of the test set\n",
        "print (logisticRegr.predict(x_test[0].reshape(1, -1)))"
      ],
      "execution_count": 12,
      "outputs": [
        {
          "output_type": "stream",
          "name": "stdout",
          "text": [
            "[4]\n"
          ]
        }
      ]
    },
    {
      "cell_type": "code",
      "metadata": {
        "colab": {
          "base_uri": "https://localhost:8080/"
        },
        "id": "omdhSeP-veFP",
        "outputId": "fa58a48b-e02a-413e-b60e-926d9ba43fae"
      },
      "source": [
        "# predicting the output of the first 10 elements of the test set\n",
        "logisticRegr.predict(x_test[0:10])"
      ],
      "execution_count": 13,
      "outputs": [
        {
          "output_type": "execute_result",
          "data": {
            "text/plain": [
              "array([4, 0, 9, 1, 8, 7, 1, 5, 1, 6])"
            ]
          },
          "metadata": {},
          "execution_count": 13
        }
      ]
    },
    {
      "cell_type": "code",
      "metadata": {
        "id": "wCDDLFcDvd59"
      },
      "source": [
        "# perdicting for the entire dataset\n",
        "predictions = logisticRegr.predict(x_test) "
      ],
      "execution_count": 14,
      "outputs": []
    },
    {
      "cell_type": "code",
      "metadata": {
        "colab": {
          "base_uri": "https://localhost:8080/"
        },
        "id": "eOJCovyevdt6",
        "outputId": "d56a5a55-da76-4c07-cc6e-4f9c9af56b67"
      },
      "source": [
        "# Determining the accueacy of the model\n",
        "score = logisticRegr.score(x_test, y_test)\n",
        "print(score)"
      ],
      "execution_count": 15,
      "outputs": [
        {
          "output_type": "stream",
          "name": "stdout",
          "text": [
            "0.9516908212560387\n"
          ]
        }
      ]
    },
    {
      "cell_type": "code",
      "metadata": {
        "id": "WZubYxgPMvJ5"
      },
      "source": [
        "import matplotlib.pyplot as plt\n",
        "import seaborn as sns\n",
        "from sklearn import metrics"
      ],
      "execution_count": 16,
      "outputs": []
    },
    {
      "cell_type": "code",
      "metadata": {
        "colab": {
          "base_uri": "https://localhost:8080/"
        },
        "id": "d7aiQep7NHjU",
        "outputId": "65987563-d39e-4d17-c515-f9d586cf0a80"
      },
      "source": [
        "cm = metrics.confusion_matrix(y_test, predictions)\n",
        "print(cm)"
      ],
      "execution_count": 17,
      "outputs": [
        {
          "output_type": "stream",
          "name": "stdout",
          "text": [
            "[[37  0  0  0  1  0  0  0  0  0]\n",
            " [ 0 45  0  1  0  0  0  0  1  1]\n",
            " [ 0  0 43  0  0  0  0  0  0  0]\n",
            " [ 0  0  0 40  0  0  0  1  1  0]\n",
            " [ 0  0  0  0 34  0  0  0  3  1]\n",
            " [ 0  1  0  0  1 44  0  0  0  0]\n",
            " [ 0  1  0  0  0  0 39  0  1  0]\n",
            " [ 0  0  0  0  0  0  0 45  1  0]\n",
            " [ 0  0  0  0  0  0  0  0 37  1]\n",
            " [ 0  0  0  2  0  1  0  0  1 30]]\n"
          ]
        }
      ]
    },
    {
      "cell_type": "code",
      "metadata": {
        "colab": {
          "base_uri": "https://localhost:8080/",
          "height": 530
        },
        "id": "iIyE51ZqvdfF",
        "outputId": "485fbbf7-5ab6-4e19-847b-6314cf9564ad"
      },
      "source": [
        "# Representing the confusion matrix in a heat map\n",
        "plt.figure(figsize=(9, 9))\n",
        "sns.heatmap(cm, annot=True, fmt = \"0.3f\", linewidths=0.5, square= True, cmap='Blues_r');\n",
        "plt.ylabel('Actual label');\n",
        "plt.xlabel('Predicted label');\n",
        "all_sample_title = 'Accuracy Score: {0}' .format(score)\n",
        "plt.title(all_sample_title, size = 15);\n"
      ],
      "execution_count": 19,
      "outputs": [
        {
          "output_type": "display_data",
          "data": {
            "image/png": "[encoded data removed]",
            "text/plain": [
              "<Figure size 648x648 with 2 Axes>"
            ]
          },
          "metadata": {
            "needs_background": "light"
          }
        }
      ]
    },
    {
      "cell_type": "code",
      "metadata": {
        "colab": {
          "base_uri": "https://localhost:8080/",
          "height": 198
        },
        "id": "42K3Sff8zEN7",
        "outputId": "92b32251-676f-4c04-d908-b1dfc46d2283"
      },
      "source": [
        "index = 0\n",
        "classifiedIndex = []\n",
        "for predict, actual in zip(predictions, y_test):\n",
        "  if predict == actual:\n",
        "    classifiedIndex.append(index)\n",
        "  index += 1\n",
        "plt.figure(figsize=(20, 3))\n",
        "for plotIndex, wrong in enumerate(classifiedIndex[0:4]):\n",
        "  plt.subplot(1, 4, plotIndex +1)\n",
        "  plt.imshow(np.reshape(x_test[wrong], (8,8)), cmap = plt.cm.gray)\n",
        "  plt.title(\"Predicted : {}, Actual : {}\".format(predictions[wrong], y_test[wrong]), fontsize = 20)"
      ],
      "execution_count": 27,
      "outputs": [
        {
          "output_type": "display_data",
          "data": {
            "image/png": "[encoded data removed]",
            "text/plain": [
              "<Figure size 1440x216 with 4 Axes>"
            ]
          },
          "metadata": {
            "needs_background": "light"
          }
        }
      ]
    },
    {
      "cell_type": "code",
      "metadata": {
        "id": "t28ottQmRl7a"
      },
      "source": [
        ""
      ],
      "execution_count": null,
      "outputs": []
    }
  ]
}