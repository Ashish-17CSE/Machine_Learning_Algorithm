{
  "nbformat": 4,
  "nbformat_minor": 0,
  "metadata": {
    "colab": {
      "name": "Predict the prices of stocks using LSTM network  or RNN",
      "provenance": [],
      "authorship_tag": "ABX9TyMPrE4RoUtPKgSIGsSxNU6A",
      "include_colab_link": true
    },
    "kernelspec": {
      "name": "python3",
      "display_name": "Python 3"
    },
    "language_info": {
      "name": "python"
    }
  },
  "cells": [
    {
      "cell_type": "markdown",
      "metadata": {
        "id": "view-in-github",
        "colab_type": "text"
      },
      "source": [
        "<a href=\"https://colab.research.google.com/github/Ashish-17CSE/Machine_Learning_Algorithm/blob/main/Predict_the_prices_of_stocks_using_LSTM_network_or_RNN.ipynb\" target=\"_parent\"><img src=\"https://colab.research.google.com/assets/colab-badge.svg\" alt=\"Open In Colab\"/></a>"
      ]
    },
    {
      "cell_type": "markdown",
      "source": [
        "**Predicting the google stock price**"
      ],
      "metadata": {
        "id": "K2Cbb1W-Mdbj"
      }
    },
    {
      "cell_type": "markdown",
      "source": [
        "# **Part 1 - Data Preprocessing**"
      ],
      "metadata": {
        "id": "H2O-4iDJT5Fa"
      }
    },
    {
      "cell_type": "code",
      "execution_count": 1,
      "metadata": {
        "id": "TWU2sROXdyus"
      },
      "outputs": [],
      "source": [
        "# Importing the Libraries \n",
        "\n",
        "import numpy as np #allow to make arrays\n",
        "import matplotlib.pyplot as plt  #visualize results on charts \n",
        "import pandas as pd #import dataset and manage easily"
      ]
    },
    {
      "cell_type": "markdown",
      "source": [
        "Data Downloaded from the kaggle"
      ],
      "metadata": {
        "id": "WeMjqdqkMtJh"
      }
    },
    {
      "cell_type": "code",
      "source": [
        "# Importing the training set\n",
        "dataset_train = pd.read_csv('Google_Stock_Price_Train.csv')\n",
        "\n",
        "#need to make into numpy arrays because only nump arrays can be input values in keras\n",
        "training_set = dataset_train.iloc[:, 1:2].values \n"
      ],
      "metadata": {
        "id": "uiBYjejglMxp"
      },
      "execution_count": 3,
      "outputs": []
    },
    {
      "cell_type": "code",
      "source": [
        "# Feature Scaling\n",
        "from sklearn.preprocessing import MinMaxScaler\n",
        "sc = MinMaxScaler(feature_range = (0, 1))\n",
        "training_set_scaled = sc.fit_transform(training_set)\n",
        "#fit (gets min and max on data to apply formula) tranform(compute scale stock prices to each formula)"
      ],
      "metadata": {
        "id": "0Dwgow8Sx0Rk"
      },
      "execution_count": 4,
      "outputs": []
    },
    {
      "cell_type": "code",
      "source": [
        "# Creating a data structure with 60 timesteps and 1 output\n",
        "X_train = []\n",
        "y_train = []\n",
        "for i in range(60, 1258): # upper bound is number of values \n",
        "  X_train.append(training_set_scaled[i-60:i, 0]) #takes 60 previous stock prices from 60 past stock prices\n",
        "  y_train.append(training_set_scaled[i, 0]) #contains stock price learned to predict \n",
        "X_train, y_train = np.array(X_train), np.array(y_train)  # make into numpy arrays \n",
        "\n",
        "# Reshaping- add dimension in numpy array \n",
        "X_train = np.reshape(X_train, (X_train.shape[0], X_train.shape[1], 1))"
      ],
      "metadata": {
        "id": "vNQVdyr5O6ge"
      },
      "execution_count": 7,
      "outputs": []
    },
    {
      "cell_type": "markdown",
      "source": [
        "# **Part 2 - Building the RNN stacked LSTM with dropout regularization to prevent overfitting**"
      ],
      "metadata": {
        "id": "t8eZ-jHMTSXt"
      }
    },
    {
      "cell_type": "code",
      "source": [
        "# Importing the Keras libraries and packages\n",
        "from keras.models import Sequential\n",
        "from keras.layers import Dense\n",
        "from keras.layers import LSTM\n",
        "from keras.layers import Dropout"
      ],
      "metadata": {
        "id": "Urp1PIwOSLGg"
      },
      "execution_count": 8,
      "outputs": []
    },
    {
      "cell_type": "code",
      "source": [
        "# Initialising the RNN\n",
        "regressor = Sequential()"
      ],
      "metadata": {
        "id": "dxDIEQDLUwUW"
      },
      "execution_count": 17,
      "outputs": []
    },
    {
      "cell_type": "code",
      "source": [
        "# Adding the first LSTM layer and some Dropout regularisation\n",
        "regressor.add(LSTM(units = 50, return_sequences=True, input_shape = (X_train.shape[1], 1)))\n",
        "regressor.add(Dropout(0.2))"
      ],
      "metadata": {
        "id": "1aYAXZCJV1oL"
      },
      "execution_count": 21,
      "outputs": []
    },
    {
      "cell_type": "code",
      "source": [
        "# Adding a second LSTM Layer and some Dropuot regularisation \n",
        "regressor.add(LSTM(units = 50, return_sequences= True))\n",
        "regressor.add(Dropout(0.2))"
      ],
      "metadata": {
        "id": "8Ov2Sde6YHjD"
      },
      "execution_count": 23,
      "outputs": []
    },
    {
      "cell_type": "code",
      "source": [
        "# Adding a third LSTM Layer and some Dropuot regularisation \n",
        "regressor.add(LSTM(units = 50, return_sequences= True))\n",
        "regressor.add(Dropout(0.2))"
      ],
      "metadata": {
        "id": "J2_G3GYIY6qj"
      },
      "execution_count": 24,
      "outputs": []
    },
    {
      "cell_type": "code",
      "source": [
        "# Adding a fourth LSTM Layer and some Dropuot regularisation \n",
        "regressor.add(LSTM(units = 50))\n",
        "regressor.add(Dropout(0.2))"
      ],
      "metadata": {
        "id": "XiNayOH3Z2NY"
      },
      "execution_count": 25,
      "outputs": []
    },
    {
      "cell_type": "code",
      "source": [
        "# Adding the output layer\n",
        "regressor.add(Dense(units = 1))"
      ],
      "metadata": {
        "id": "_HFtUo3MaIWN"
      },
      "execution_count": 26,
      "outputs": []
    },
    {
      "cell_type": "code",
      "source": [
        "# Compiling the RNN\n",
        "regressor.compile(optimizer = 'adam', loss = 'mean_squared_error')"
      ],
      "metadata": {
        "id": "Epd7uYTQlWJZ"
      },
      "execution_count": 29,
      "outputs": []
    },
    {
      "cell_type": "code",
      "source": [
        "# Fitting the RNN to the Training set\n",
        "regressor.fit(X_train, y_train, epochs = 100, batch_size = 32)"
      ],
      "metadata": {
        "colab": {
          "base_uri": "https://localhost:8080/"
        },
        "id": "nWCsIRwMlwTd",
        "outputId": "357380e6-5050-4dde-9567-c4012d236eaf"
      },
      "execution_count": 32,
      "outputs": [
        {
          "output_type": "stream",
          "name": "stdout",
          "text": [
            "Epoch 1/100\n",
            "38/38 [==============================] - 9s 247ms/step - loss: 0.0013\n",
            "Epoch 2/100\n",
            "38/38 [==============================] - 14s 368ms/step - loss: 0.0012\n",
            "Epoch 3/100\n",
            "38/38 [==============================] - 7s 185ms/step - loss: 0.0013\n",
            "Epoch 4/100\n",
            "38/38 [==============================] - 7s 184ms/step - loss: 0.0015\n",
            "Epoch 5/100\n",
            "38/38 [==============================] - 7s 184ms/step - loss: 0.0014\n",
            "Epoch 6/100\n",
            "38/38 [==============================] - 7s 184ms/step - loss: 0.0015\n",
            "Epoch 7/100\n",
            "38/38 [==============================] - 7s 187ms/step - loss: 0.0014\n",
            "Epoch 8/100\n",
            "38/38 [==============================] - 7s 183ms/step - loss: 0.0012\n",
            "Epoch 9/100\n",
            "38/38 [==============================] - 7s 186ms/step - loss: 0.0012\n",
            "Epoch 10/100\n",
            "38/38 [==============================] - 7s 185ms/step - loss: 0.0012\n",
            "Epoch 11/100\n",
            "38/38 [==============================] - 7s 182ms/step - loss: 0.0014\n",
            "Epoch 12/100\n",
            "38/38 [==============================] - 9s 238ms/step - loss: 0.0013\n",
            "Epoch 13/100\n",
            "38/38 [==============================] - 8s 216ms/step - loss: 0.0012\n",
            "Epoch 14/100\n",
            "38/38 [==============================] - 8s 218ms/step - loss: 0.0013\n",
            "Epoch 15/100\n",
            "38/38 [==============================] - 7s 186ms/step - loss: 0.0011\n",
            "Epoch 16/100\n",
            "38/38 [==============================] - 7s 183ms/step - loss: 0.0011\n",
            "Epoch 17/100\n",
            "38/38 [==============================] - 8s 210ms/step - loss: 0.0011\n",
            "Epoch 18/100\n",
            "38/38 [==============================] - 9s 242ms/step - loss: 0.0012\n",
            "Epoch 19/100\n",
            "38/38 [==============================] - 9s 234ms/step - loss: 0.0010\n",
            "Epoch 20/100\n",
            "38/38 [==============================] - 7s 188ms/step - loss: 0.0011\n",
            "Epoch 21/100\n",
            "38/38 [==============================] - 8s 203ms/step - loss: 0.0011\n",
            "Epoch 22/100\n",
            "38/38 [==============================] - 7s 182ms/step - loss: 0.0012\n",
            "Epoch 23/100\n",
            "38/38 [==============================] - 7s 183ms/step - loss: 0.0012\n",
            "Epoch 24/100\n",
            "38/38 [==============================] - 7s 186ms/step - loss: 0.0011\n",
            "Epoch 25/100\n",
            "38/38 [==============================] - 8s 202ms/step - loss: 0.0011\n",
            "Epoch 26/100\n",
            "38/38 [==============================] - 10s 261ms/step - loss: 0.0014\n",
            "Epoch 27/100\n",
            "38/38 [==============================] - 9s 230ms/step - loss: 0.0012\n",
            "Epoch 28/100\n",
            "38/38 [==============================] - 7s 186ms/step - loss: 0.0012\n",
            "Epoch 29/100\n",
            "38/38 [==============================] - 7s 186ms/step - loss: 0.0013\n",
            "Epoch 30/100\n",
            "38/38 [==============================] - 7s 184ms/step - loss: 0.0011\n",
            "Epoch 31/100\n",
            "38/38 [==============================] - 7s 182ms/step - loss: 0.0011\n",
            "Epoch 32/100\n",
            "38/38 [==============================] - 7s 184ms/step - loss: 0.0012\n",
            "Epoch 33/100\n",
            "38/38 [==============================] - 7s 184ms/step - loss: 0.0012\n",
            "Epoch 34/100\n",
            "38/38 [==============================] - 7s 185ms/step - loss: 0.0011\n",
            "Epoch 35/100\n",
            "38/38 [==============================] - 7s 186ms/step - loss: 0.0011\n",
            "Epoch 36/100\n",
            "38/38 [==============================] - 7s 186ms/step - loss: 0.0011\n",
            "Epoch 37/100\n",
            "38/38 [==============================] - 7s 187ms/step - loss: 0.0010\n",
            "Epoch 38/100\n",
            "38/38 [==============================] - 7s 187ms/step - loss: 0.0010\n",
            "Epoch 39/100\n",
            "38/38 [==============================] - 7s 186ms/step - loss: 0.0011\n",
            "Epoch 40/100\n",
            "38/38 [==============================] - 7s 188ms/step - loss: 0.0011\n",
            "Epoch 41/100\n",
            "38/38 [==============================] - 7s 192ms/step - loss: 0.0014\n",
            "Epoch 42/100\n",
            "38/38 [==============================] - 8s 200ms/step - loss: 0.0013\n",
            "Epoch 43/100\n",
            "38/38 [==============================] - 7s 188ms/step - loss: 0.0010\n",
            "Epoch 44/100\n",
            "38/38 [==============================] - 7s 187ms/step - loss: 0.0011\n",
            "Epoch 45/100\n",
            "38/38 [==============================] - 7s 189ms/step - loss: 0.0012\n",
            "Epoch 46/100\n",
            "38/38 [==============================] - 7s 187ms/step - loss: 0.0010\n",
            "Epoch 47/100\n",
            "38/38 [==============================] - 7s 187ms/step - loss: 0.0011\n",
            "Epoch 48/100\n",
            "38/38 [==============================] - 7s 185ms/step - loss: 9.9699e-04\n",
            "Epoch 49/100\n",
            "38/38 [==============================] - 7s 188ms/step - loss: 0.0011\n",
            "Epoch 50/100\n",
            "38/38 [==============================] - 7s 186ms/step - loss: 0.0010\n",
            "Epoch 51/100\n",
            "38/38 [==============================] - 7s 184ms/step - loss: 0.0012\n",
            "Epoch 52/100\n",
            "38/38 [==============================] - 7s 187ms/step - loss: 0.0010\n",
            "Epoch 53/100\n",
            "38/38 [==============================] - 7s 186ms/step - loss: 0.0011\n",
            "Epoch 54/100\n",
            "38/38 [==============================] - 7s 183ms/step - loss: 0.0010\n",
            "Epoch 55/100\n",
            "38/38 [==============================] - 7s 184ms/step - loss: 0.0012\n",
            "Epoch 56/100\n",
            "38/38 [==============================] - 7s 185ms/step - loss: 0.0011\n",
            "Epoch 57/100\n",
            "38/38 [==============================] - 7s 196ms/step - loss: 0.0011\n",
            "Epoch 58/100\n",
            "38/38 [==============================] - 7s 185ms/step - loss: 9.8200e-04\n",
            "Epoch 59/100\n",
            "38/38 [==============================] - 7s 183ms/step - loss: 9.1965e-04\n",
            "Epoch 60/100\n",
            "38/38 [==============================] - 7s 184ms/step - loss: 0.0012\n",
            "Epoch 61/100\n",
            "38/38 [==============================] - 7s 185ms/step - loss: 9.5163e-04\n",
            "Epoch 62/100\n",
            "38/38 [==============================] - 7s 186ms/step - loss: 9.7081e-04\n",
            "Epoch 63/100\n",
            "38/38 [==============================] - 7s 186ms/step - loss: 9.8073e-04\n",
            "Epoch 64/100\n",
            "38/38 [==============================] - 7s 184ms/step - loss: 0.0010\n",
            "Epoch 65/100\n",
            "38/38 [==============================] - 7s 184ms/step - loss: 9.8109e-04\n",
            "Epoch 66/100\n",
            "38/38 [==============================] - 7s 186ms/step - loss: 0.0011\n",
            "Epoch 67/100\n",
            "38/38 [==============================] - 7s 185ms/step - loss: 0.0011\n",
            "Epoch 68/100\n",
            "38/38 [==============================] - 7s 185ms/step - loss: 9.5550e-04\n",
            "Epoch 69/100\n",
            "38/38 [==============================] - 7s 185ms/step - loss: 9.1253e-04\n",
            "Epoch 70/100\n",
            "38/38 [==============================] - 7s 187ms/step - loss: 0.0011\n",
            "Epoch 71/100\n",
            "38/38 [==============================] - 7s 186ms/step - loss: 0.0010\n",
            "Epoch 72/100\n",
            "38/38 [==============================] - 7s 184ms/step - loss: 9.1402e-04\n",
            "Epoch 73/100\n",
            "38/38 [==============================] - 7s 182ms/step - loss: 0.0011\n",
            "Epoch 74/100\n",
            "38/38 [==============================] - 7s 185ms/step - loss: 0.0010\n",
            "Epoch 75/100\n",
            "38/38 [==============================] - 7s 191ms/step - loss: 9.7493e-04\n",
            "Epoch 76/100\n",
            "38/38 [==============================] - 7s 186ms/step - loss: 0.0010\n",
            "Epoch 77/100\n",
            "38/38 [==============================] - 7s 187ms/step - loss: 0.0010\n",
            "Epoch 78/100\n",
            "38/38 [==============================] - 7s 184ms/step - loss: 0.0011\n",
            "Epoch 79/100\n",
            "38/38 [==============================] - 7s 189ms/step - loss: 8.8036e-04\n",
            "Epoch 80/100\n",
            "38/38 [==============================] - 7s 187ms/step - loss: 9.9898e-04\n",
            "Epoch 81/100\n",
            "38/38 [==============================] - 7s 187ms/step - loss: 9.8815e-04\n",
            "Epoch 82/100\n",
            "38/38 [==============================] - 7s 185ms/step - loss: 0.0010\n",
            "Epoch 83/100\n",
            "38/38 [==============================] - 7s 187ms/step - loss: 0.0013\n",
            "Epoch 84/100\n",
            "38/38 [==============================] - 7s 185ms/step - loss: 0.0010\n",
            "Epoch 85/100\n",
            "38/38 [==============================] - 7s 183ms/step - loss: 9.2864e-04\n",
            "Epoch 86/100\n",
            "38/38 [==============================] - 7s 183ms/step - loss: 8.6779e-04\n",
            "Epoch 87/100\n",
            "38/38 [==============================] - 7s 185ms/step - loss: 8.5619e-04\n",
            "Epoch 88/100\n",
            "38/38 [==============================] - 13s 358ms/step - loss: 0.0010\n",
            "Epoch 89/100\n",
            "38/38 [==============================] - 14s 375ms/step - loss: 9.3005e-04\n",
            "Epoch 90/100\n",
            "38/38 [==============================] - 9s 229ms/step - loss: 9.9954e-04\n",
            "Epoch 91/100\n",
            "38/38 [==============================] - 7s 185ms/step - loss: 9.7702e-04\n",
            "Epoch 92/100\n",
            "38/38 [==============================] - 7s 187ms/step - loss: 0.0010\n",
            "Epoch 93/100\n",
            "38/38 [==============================] - 7s 183ms/step - loss: 9.5292e-04\n",
            "Epoch 94/100\n",
            "38/38 [==============================] - 7s 185ms/step - loss: 0.0012\n",
            "Epoch 95/100\n",
            "38/38 [==============================] - 7s 184ms/step - loss: 9.4566e-04\n",
            "Epoch 96/100\n",
            "38/38 [==============================] - 7s 182ms/step - loss: 0.0011\n",
            "Epoch 97/100\n",
            "38/38 [==============================] - 7s 184ms/step - loss: 9.0719e-04\n",
            "Epoch 98/100\n",
            "38/38 [==============================] - 7s 187ms/step - loss: 9.6067e-04\n",
            "Epoch 99/100\n",
            "38/38 [==============================] - 7s 183ms/step - loss: 9.2944e-04\n",
            "Epoch 100/100\n",
            "38/38 [==============================] - 7s 183ms/step - loss: 8.6857e-04\n"
          ]
        },
        {
          "output_type": "execute_result",
          "data": {
            "text/plain": [
              "<keras.callbacks.History at 0x7f4927f5a310>"
            ]
          },
          "metadata": {},
          "execution_count": 32
        }
      ]
    },
    {
      "cell_type": "markdown",
      "source": [
        "# **Part 3 - Making the predictions and visualising the results**"
      ],
      "metadata": {
        "id": "LwR4kkMcm23W"
      }
    },
    {
      "cell_type": "code",
      "source": [
        "# Load the real stock prices of 2017\n",
        "dataset_test = pd.read_csv('Google_Stock_Price_Test.csv')\n",
        "real_stock_price = dataset_test.iloc[:, 1:2].values"
      ],
      "metadata": {
        "id": "WX0oFQCNm9H2"
      },
      "execution_count": 33,
      "outputs": []
    },
    {
      "cell_type": "code",
      "source": [
        "# Getting the predicted stock price of 2017\n",
        "dataset_total = pd.concat((dataset_train['Open'], dataset_test['Open']), axis = 0)\n",
        "inputs = dataset_total[len(dataset_total) - len(dataset_test) - 60:].values\n",
        "inputs = inputs.reshape(-1,1)\n",
        "inputs = sc.transform(inputs)\n",
        "X_test = []\n",
        "for i in range(60, 80):\n",
        "    X_test.append(inputs[i-60:i, 0])\n",
        "X_test = np.array(X_test)\n",
        "X_test = np.reshape(X_test, (X_test.shape[0], X_test.shape[1], 1))\n",
        "predicted_stock_price = regressor.predict(X_test)\n",
        "predicted_stock_price = sc.inverse_transform(predicted_stock_price)"
      ],
      "metadata": {
        "id": "WMsFVIclqMAH"
      },
      "execution_count": 38,
      "outputs": []
    },
    {
      "cell_type": "code",
      "source": [
        "# Visualising the results\n",
        "plt.plot(real_stock_price, color = 'red', label = 'Real Google Stock Price')\n",
        "plt.plot(predicted_stock_price, color = 'blue', label = 'Predicted Google Stock Price')\n",
        "plt.title('Google Stock Price Prediction')\n",
        "plt.xlabel('Time')\n",
        "plt.ylabel('Google Stock Price')\n",
        "plt.legend()\n",
        "plt.show()"
      ],
      "metadata": {
        "colab": {
          "base_uri": "https://localhost:8080/",
          "height": 295
        },
        "id": "w8aBYR09qW_h",
        "outputId": "fb19a335-0bcb-4c51-f92f-f1eb64694efb"
      },
      "execution_count": 39,
      "outputs": [
        {
          "output_type": "display_data",
          "data": {
            "image/png": "[encoded data removed]",
            "text/plain": [
              "<Figure size 432x288 with 1 Axes>"
            ]
          },
          "metadata": {
            "needs_background": "light"
          }
        }
      ]
    }
  ]
}