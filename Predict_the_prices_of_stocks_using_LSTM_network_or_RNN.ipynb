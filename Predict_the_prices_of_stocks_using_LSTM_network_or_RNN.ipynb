{
  "nbformat": 4,
  "nbformat_minor": 0,
  "metadata": {
    "colab": {
      "name": "Predict the prices of stocks using LSTM network  or RNN",
      "provenance": [],
      "authorship_tag": "ABX9TyMGVG32wq1qpfghyXUNTEed",
      "include_colab_link": true
    },
    "kernelspec": {
      "name": "python3",
      "display_name": "Python 3"
    },
    "language_info": {
      "name": "python"
    }
  },
  "cells": [
    {
      "cell_type": "markdown",
      "metadata": {
        "id": "view-in-github",
        "colab_type": "text"
      },
      "source": [
        "<a href=\"https://colab.research.google.com/github/Ashish-17CSE/Machine_Learning_Algorithm/blob/main/Predict_the_prices_of_stocks_using_LSTM_network_or_RNN.ipynb\" target=\"_parent\"><img src=\"https://colab.research.google.com/assets/colab-badge.svg\" alt=\"Open In Colab\"/></a>"
      ]
    },
    {
      "cell_type": "code",
      "execution_count": 1,
      "metadata": {
        "id": "TWU2sROXdyus"
      },
      "outputs": [],
      "source": [
        "# Importing the Libraries \n",
        "\n",
        "import numpy as np #allow to make arrays\n",
        "import matplotlib.pyplot as plt  #visualize results on charts \n",
        "import pandas as pd #import dataset and manage easily"
      ]
    },
    {
      "cell_type": "code",
      "source": [
        "# Importing the training set\n",
        "dataset_train = pd.read_csv('Google_Stock_Price_Train.csv')\n",
        "\n",
        "#need to make into numpy arrays because only nump arrays can be input values in keras\n",
        "training_set = dataset_train.iloc[:, 1:2].values \n"
      ],
      "metadata": {
        "id": "uiBYjejglMxp"
      },
      "execution_count": 5,
      "outputs": []
    },
    {
      "cell_type": "code",
      "source": [
        "# Feature Scaling\n"
      ],
      "metadata": {
        "id": "0Dwgow8Sx0Rk"
      },
      "execution_count": null,
      "outputs": []
    }
  ]
}