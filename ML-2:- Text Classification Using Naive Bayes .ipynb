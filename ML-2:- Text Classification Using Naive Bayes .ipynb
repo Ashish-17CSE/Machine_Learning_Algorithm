{
  "nbformat": 4,
  "nbformat_minor": 0,
  "metadata": {
    "colab": {
      "name": "ML-2. Naive Bayes Classifier",
      "provenance": [],
      "authorship_tag": "ABX9TyMyEWjbdqHLaOg6wTebCgqg",
      "include_colab_link": true
    },
    "kernelspec": {
      "name": "python3",
      "display_name": "Python 3"
    },
    "language_info": {
      "name": "python"
    }
  },
  "cells": [
    {
      "cell_type": "markdown",
      "metadata": {
        "id": "view-in-github",
        "colab_type": "text"
      },
      "source": [
        "<a href=\"https://colab.research.google.com/github/Ashish-17CSE/Machine_Learning_Algorithm/blob/main/ML-2%3A-%20Text%20Classification%20Using%20Naive%20Bayes%20.ipynb\" target=\"_parent\"><img src=\"https://colab.research.google.com/assets/colab-badge.svg\" alt=\"Open In Colab\"/></a>"
      ]
    },
    {
      "cell_type": "markdown",
      "metadata": {
        "id": "pv8EVNqzaWGF"
      },
      "source": [
        "# Loding the necessary Libraries"
      ]
    },
    {
      "cell_type": "code",
      "metadata": {
        "id": "ZDTK2hybZ_BR"
      },
      "source": [
        "%matplotlib inline\n",
        "import numpy as np\n",
        "import matplotlib.pyplot as plt\n",
        "import seabron as sns; sns.set()\n",
        "\n",
        "from sklearn.datasets import fetch_20newsgroups\n",
        "\n",
        "data = fetch_20newsgroups ()\n",
        "data.target_names"
      ],
      "execution_count": null,
      "outputs": []
    }
  ]
}